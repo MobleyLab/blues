{
 "cells": [
  {
   "cell_type": "code",
   "execution_count": 1,
   "metadata": {
    "collapsed": true
   },
   "outputs": [],
   "source": [
    "# import what is needed\n",
    "from openeye.oechem import *\n",
    "from __future__ import print_function\n",
    "from blues import ncmc\n",
    "from blues import utils\n",
    "import parmed\n",
    "from simtk import unit, openmm\n",
    "from datetime import datetime\n",
    "from optparse import OptionParser\n",
    "import os"
   ]
  },
  {
   "cell_type": "code",
   "execution_count": 2,
   "metadata": {
    "collapsed": true
   },
   "outputs": [],
   "source": [
    "def PDB2OEMol(pdbfile):\n",
    "    '''This function takes in a pdbfile as a string (e.g. 'protein.pdb') and reads it into and OEGraphMol'''\n",
    "    \n",
    "    # check if file exists\n",
    "    if os.path.isfile(pdbfile):\n",
    "        # read file into an input stream\n",
    "        ifs = oemolistream(pdbfile)\n",
    "        # set the format of the input stream to pdb (other wise SMI default)\n",
    "        ifs.SetFormat(OEFormat_PDB)\n",
    "        # create OEMol destination\n",
    "        pdb_OEMol = OEGraphMol()\n",
    "        # assign input stream to OEMol\n",
    "        OEReadMolecule(ifs, pdb_OEMol)\n",
    "        return pdb_OEMol\n",
    "    else:\n",
    "        print('PDB filename not found.')"
   ]
  },
  {
   "cell_type": "code",
   "execution_count": 3,
   "metadata": {
    "collapsed": true
   },
   "outputs": [],
   "source": [
    "def GetTargetAtoms(molecule, residue_list):\n",
    "    '''This function takes a OEGraphMol PDB structure and a list of residue numbers and \n",
    "        generates a dictionary containing all the non-backbone, heavy atom locations and indicies for those residues.\n",
    "        Note: The atom indicies start at 0 and are thus -1 from the PDB file indicies'''\n",
    "    \n",
    "    # Call this function to find atoms and bonds\n",
    "    OEFindRingAtomsAndBonds(molecule)\n",
    "    #OEPerceiveResidues(pdb_OEMol)\n",
    "    if not OEHasResidues(molecule):\n",
    "            OEPerceiveResidues(molecule, OEPreserveResInfo_All)\n",
    "    \n",
    "    # create and clear dictionary to store atoms that make up residue list\n",
    "    qry_atoms = {}\n",
    "    qry_atoms.clear()\n",
    "    \n",
    "    # track atom count and backbone atoms\n",
    "    bbatom_ct = 0\n",
    "    allatom_ct = 0\n",
    "    \n",
    "    print('Searching residues for heavy atoms...')\n",
    "    # loop through all the atoms in the PDB OEGraphMol structure\n",
    "    for atom in molecule.GetAtoms():\n",
    "        # count atoms\n",
    "        allatom_ct = allatom_ct +1\n",
    "        # count backbone atoms\n",
    "        if OEIsBackboneAtom():\n",
    "            bbatom_ct = bbatom_ct + 1\n",
    "        # check if the atom is a heavy atom\n",
    "        if atom.GetAtomicNum() > 1:\n",
    "            # if heavy, find what residue it is associated with\n",
    "            myres = OEAtomGetResidue(atom)\n",
    "            # check if the residue number is amongst the list of residues\n",
    "            if myres.GetResidueNumber() in residue_list:\n",
    "                # store the atom location in a query atom dict keyed by its atom index\n",
    "                qry_atoms.update({atom : atom.GetIdx()})\n",
    "                print('Found',atom) \n",
    "    print('\\n')\n",
    "    print (bbatom_ct)\n",
    "    print (allatom_ct)\n",
    "    #return dictionary of residue atoms and indicies\n",
    "    return qry_atoms"
   ]
  },
  {
   "cell_type": "code",
   "execution_count": 4,
   "metadata": {
    "collapsed": true
   },
   "outputs": [],
   "source": [
    "def FindHeavyRotBonds(pdb_OEMol, qry_atoms):\n",
    "    '''This function takes in an OEGraphMol PDB structure as well as a dictionary of atom locations (keys) \n",
    "        and atom indicies.  It loops over the query atoms and identifies the bonds associated with each atom.\n",
    "        It stores and returns the bond indicies (keys) and the two atom indicies for each bond in a dictionary\n",
    "        **Note: atom indicies start at 0, so are offset by 1 compared to pdb)'''\n",
    "    \n",
    "    # Call this function to find atoms and bonds\n",
    "    OEFindRingAtomsAndBonds(pdb_OEMol)\n",
    "    \n",
    "    # create and clear dictionary to store bond and atom indicies that are rotatable + heavy\n",
    "    rot_atoms = {}\n",
    "    rot_atoms.clear()\n",
    "    \n",
    "    for atom in qry_atoms:\n",
    "        for bond in atom.GetBonds():\n",
    "            # retrieve the begnning and ending atoms\n",
    "            begatom = bond.GetBgn()\n",
    "            endatom = bond.GetEnd()\n",
    "            # if begnnning and ending atoms are not Hydrogen, and the bond is rotatable\n",
    "            if endatom.GetAtomicNum() >1 and begatom.GetAtomicNum() >1 and OEIsRotor:\n",
    "                # if the bond has not been added to dictionary already..\n",
    "                # (as would happen if one of the atom pairs was previously looped over)\n",
    "                if bond.GetIdx() not in rot_atoms:\n",
    "                    # print the bond index\n",
    "                    print('Bond number',bond, 'is rotatable and contains only heavy atoms')\n",
    "                    # store bond index number (key) and atom indicies in dictionary if not already there\n",
    "                    rot_atoms.update({bond.GetIdx() : {'AtomIdx_1' : bond.GetBgnIdx(), 'AtomIdx_2': bond.GetEndIdx()}})\n",
    "\n",
    "\n",
    "    # Return dictionary with bond atom indicies keyed by bond index\n",
    "    return rot_atoms\n"
   ]
  },
  {
   "cell_type": "code",
   "execution_count": 5,
   "metadata": {
    "collapsed": true
   },
   "outputs": [],
   "source": [
    "def GetRotBonds(pdbfile,residue_list):\n",
    "    '''This function takes in a PDB filename (as a string) and list of residue numbers.  It returns\n",
    "        a dictionary of rotatable bonds (containing only heavy atoms), that are keyed by bond index \n",
    "        and containing the associated atom indicies\n",
    "        **Note: The atom indicies start at 0, and are offset by -1 from the PDB file indicies'''\n",
    "    # read .pdb file into OEGraphMol\n",
    "    structure = PDB2OEMol(pdbfile)\n",
    "    print('\\nPDB file opened into OEGraphMol\\n')\n",
    "    # Generate dictionary containing locations and indicies of heavy residue atoms\n",
    "    qry_atoms = GetTargetAtoms(structure, residue_list)\n",
    "    print('Dictionary of query atoms generated from residue list\\n')\n",
    "    # Identify bonds containing query atoms and return dictionary of indicies\n",
    "    rot_atoms = FindHeavyRotBonds(structure,qry_atoms)\n",
    "    print('\\nRotable bond and atom index dictionary generated with format: {Bond Index: {Atom1Index:, Atom2Index:}}')\n",
    "    print('\\n')\n",
    "    print(rot_atoms)"
   ]
  },
  {
   "cell_type": "code",
   "execution_count": 6,
   "metadata": {},
   "outputs": [
    {
     "name": "stdout",
     "output_type": "stream",
     "text": [
      "\n",
      "PDB file opened into OEGraphMol\n",
      "\n",
      "Searching residues for heavy atoms...\n",
      "Found 1733 N\n",
      "Found 1735 C\n",
      "Found 1737 C\n",
      "Found 1739 C\n",
      "Found 1743 C\n",
      "Found 1747 C\n",
      "Found 1748 O\n",
      "\n",
      "\n",
      "22340\n",
      "22340\n",
      "Dictionary of query atoms generated from residue list\n",
      "\n",
      "Bond number 1757 (1748O-1747C) is rotatable and contains only heavy atoms\n",
      "Bond number 1744 (1735C-1733N) is rotatable and contains only heavy atoms\n",
      "Bond number 1746 (1737C-1735C) is rotatable and contains only heavy atoms\n",
      "Bond number 1756 (1747C-1735C) is rotatable and contains only heavy atoms\n",
      "Bond number 1748 (1739C-1737C) is rotatable and contains only heavy atoms\n",
      "Bond number 1742 (1733N-1731C) is rotatable and contains only heavy atoms\n",
      "Bond number 1758 (1749N-1747C) is rotatable and contains only heavy atoms\n",
      "Bond number 1752 (1743C-1737C) is rotatable and contains only heavy atoms\n",
      "\n",
      "Rotable bond and atom index dictionary generated with format: {Bond Index: {Atom1Index:, Atom2Index:}}\n",
      "\n",
      "\n",
      "{1744: {'AtomIdx_2': 1733, 'AtomIdx_1': 1735}, 1746: {'AtomIdx_2': 1735, 'AtomIdx_1': 1737}, 1748: {'AtomIdx_2': 1737, 'AtomIdx_1': 1739}, 1758: {'AtomIdx_2': 1747, 'AtomIdx_1': 1749}, 1752: {'AtomIdx_2': 1737, 'AtomIdx_1': 1743}, 1756: {'AtomIdx_2': 1735, 'AtomIdx_1': 1747}, 1757: {'AtomIdx_2': 1747, 'AtomIdx_1': 1748}, 1742: {'AtomIdx_2': 1731, 'AtomIdx_1': 1733}}\n"
     ]
    }
   ],
   "source": [
    "#Test GetRotBonds function using .pdb file and list of residues\n",
    "\n",
    "# Load parmed files and output as pdb\n",
    "prmtop = utils.get_data_filename('blues', 'tests/data/eqToluene.prmtop')\n",
    "inpcrd = utils.get_data_filename('blues', 'tests/data/eqToluene.inpcrd')\n",
    "# Load these into a ParmEd Structure called `struct`\n",
    "struct = parmed.load_file(prmtop, xyz=inpcrd)\n",
    "prot = struct.save('protein.pdb', overwrite = True)\n",
    "\n",
    "# define a residue list\n",
    "my_residues = [111]\n",
    "\n",
    "# call function\n",
    "my_rotatable_atoms = GetRotBonds('protein.pdb', my_residues)"
   ]
  },
  {
   "cell_type": "code",
   "execution_count": null,
   "metadata": {
    "collapsed": true
   },
   "outputs": [],
   "source": []
  },
  {
   "cell_type": "code",
   "execution_count": null,
   "metadata": {},
   "outputs": [],
   "source": []
  },
  {
   "cell_type": "code",
   "execution_count": null,
   "metadata": {
    "collapsed": true
   },
   "outputs": [],
   "source": []
  },
  {
   "cell_type": "code",
   "execution_count": null,
   "metadata": {
    "collapsed": true
   },
   "outputs": [],
   "source": []
  }
 ],
 "metadata": {
  "kernelspec": {
   "display_name": "Python [default]",
   "language": "python",
   "name": "python3"
  },
  "language_info": {
   "codemirror_mode": {
    "name": "ipython",
    "version": 3
   },
   "file_extension": ".py",
   "mimetype": "text/x-python",
   "name": "python",
   "nbconvert_exporter": "python",
   "pygments_lexer": "ipython3",
   "version": "3.5.3"
  }
 },
 "nbformat": 4,
 "nbformat_minor": 2
}
