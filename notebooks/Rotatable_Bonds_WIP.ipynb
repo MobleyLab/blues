{
 "cells": [
  {
   "cell_type": "code",
   "execution_count": 4,
   "metadata": {
    "collapsed": true
   },
   "outputs": [],
   "source": [
    "# import what is needed\n",
    "from openeye.oechem import *\n",
    "from __future__ import print_function\n",
    "from blues import ncmc\n",
    "from blues import utils\n",
    "import parmed\n",
    "from simtk import unit, openmm\n",
    "from datetime import datetime\n",
    "from optparse import OptionParser\n",
    "import os"
   ]
  },
  {
   "cell_type": "code",
   "execution_count": 20,
   "metadata": {
    "collapsed": true
   },
   "outputs": [],
   "source": [
    "def pDB2OEMol(pdbfile):\n",
    "    '''This function takes in a pdbfile as a string (e.g. 'protein.pdb') and reads it into and OEGraphMol'''\n",
    "    \n",
    "    # check if file exists\n",
    "    if os.path.isfile(pdbfile):\n",
    "        # read file into an input stream\n",
    "        ifs = oemolistream(pdbfile)\n",
    "        # set the format of the input stream to pdb (other wise SMI default)\n",
    "        ifs.SetFormat(OEFormat_PDB)\n",
    "        # create OEMol destination\n",
    "        pdb_OEMol = OEGraphMol()\n",
    "        # assign input stream to OEMol\n",
    "        OEReadMolecule(ifs, pdb_OEMol)\n",
    "        return pdb_OEMol\n",
    "    else:\n",
    "        print('PDB filename not found.')"
   ]
  },
  {
   "cell_type": "code",
   "execution_count": 41,
   "metadata": {},
   "outputs": [],
   "source": [
    "def getBackboneAtoms(molecule):\n",
    "    '''This function takes a OEGraphMol PDB structure and returns a list of backbone atoms'''\n",
    "    backbone_atoms = []\n",
    "    # Call this function to find atoms and bonds\n",
    "    OEFindRingAtomsAndBonds(molecule)\n",
    "    #OEPerceiveResidues(pdb_OEMol)\n",
    "    if not OEHasResidues(molecule):\n",
    "            OEPerceiveResidues(molecule, OEPreserveResInfo_All)\n",
    "    aiter = molecule.GetAtoms(OEIsBackboneAtom())\n",
    "    for atom in aiter:\n",
    "        bb_atom_idx = atom.GetIdx()\n",
    "        backbone_atoms.append(bb_atom_idx)\n",
    "    return backbone_atoms\n"
   ]
  },
  {
   "cell_type": "code",
   "execution_count": 35,
   "metadata": {
    "collapsed": true
   },
   "outputs": [],
   "source": [
    "def getTargetAtoms(molecule, residue_list):\n",
    "    '''This function takes a OEGraphMol PDB structure and a list of residue numbers and \n",
    "        generates a dictionary containing all the non-backbone, heavy atom locations and indicies for those residues.\n",
    "        Note: The atom indicies start at 0 and are thus -1 from the PDB file indicies'''\n",
    "\n",
    "    # Call this function to find atoms and bonds\n",
    "    OEFindRingAtomsAndBonds(molecule)\n",
    "\n",
    "    # create and clear dictionary to store atoms that make up residue list\n",
    "    qry_atoms = {}\n",
    "    qry_atoms.clear()\n",
    "    \n",
    "    # call backbone function and create backbone atom list\n",
    "    backbone = getBackboneAtoms(molecule)\n",
    "    \n",
    "    print('Searching residues for heavy atoms...')\n",
    "    # loop through all the atoms in the PDB OEGraphMol structure\n",
    "    for atom in molecule.GetAtoms():\n",
    "        # check if the atom is a heavy atom\n",
    "        if atom.GetAtomicNum() > 1 and atom.GetIdx() not in backbone:\n",
    "            # if heavy, find what residue it is associated with\n",
    "            myres = OEAtomGetResidue(atom)\n",
    "            # check if the residue number is amongst the list of residues\n",
    "            if myres.GetResidueNumber() in residue_list:\n",
    "                # store the atom location in a query atom dict keyed by its atom index\n",
    "                qry_atoms.update({atom : atom.GetIdx()})\n",
    "                print('Found',atom) \n",
    "    print('\\n')\n",
    "\n",
    "    #return dictionary of residue atoms and indicies\n",
    "    return qry_atoms"
   ]
  },
  {
   "cell_type": "code",
   "execution_count": 36,
   "metadata": {
    "collapsed": true
   },
   "outputs": [],
   "source": [
    "def findHeavyRotBonds(pdb_OEMol, qry_atoms):\n",
    "    '''This function takes in an OEGraphMol PDB structure as well as a dictionary of atom locations (keys) \n",
    "        and atom indicies.  It loops over the query atoms and identifies the bonds associated with each atom.\n",
    "        It stores and returns the bond indicies (keys) and the two atom indicies for each bond in a dictionary\n",
    "        **Note: atom indicies start at 0, so are offset by 1 compared to pdb)'''\n",
    "    \n",
    "    # Call this function to find atoms and bonds\n",
    "    OEFindRingAtomsAndBonds(pdb_OEMol)\n",
    "    \n",
    "    # create and clear dictionary to store bond and atom indicies that are rotatable + heavy\n",
    "    rot_atoms = {}\n",
    "    rot_atoms.clear()\n",
    "    \n",
    "    for atom in qry_atoms:\n",
    "        for bond in atom.GetBonds():\n",
    "            # retrieve the begnning and ending atoms\n",
    "            begatom = bond.GetBgn()\n",
    "            endatom = bond.GetEnd()\n",
    "            # if begnnning and ending atoms are not Hydrogen, and the bond is rotatable\n",
    "            if endatom.GetAtomicNum() >1 and begatom.GetAtomicNum() >1 and OEIsRotor:\n",
    "                # if the bond has not been added to dictionary already..\n",
    "                # (as would happen if one of the atom pairs was previously looped over)\n",
    "                if bond.GetIdx() not in rot_atoms:\n",
    "                    # print the bond index\n",
    "                    print('Bond number',bond, 'is rotatable and contains only heavy atoms')\n",
    "                    # store bond index number (key) and atom indicies in dictionary if not already there\n",
    "                    rot_atoms.update({bond.GetIdx() : {'AtomIdx_1' : bond.GetBgnIdx(), 'AtomIdx_2': bond.GetEndIdx()}})\n",
    "\n",
    "\n",
    "    # Return dictionary with bond atom indicies keyed by bond index\n",
    "    return rot_atoms\n"
   ]
  },
  {
   "cell_type": "code",
   "execution_count": 37,
   "metadata": {
    "collapsed": true
   },
   "outputs": [],
   "source": [
    "def getRotBonds(pdbfile,residue_list):\n",
    "    '''This function takes in a PDB filename (as a string) and list of residue numbers.  It returns\n",
    "        a dictionary of rotatable bonds (containing only heavy atoms), that are keyed by bond index \n",
    "        and containing the associated atom indicies\n",
    "        **Note: The atom indicies start at 0, and are offset by -1 from the PDB file indicies'''\n",
    "    # read .pdb file into OEGraphMol\n",
    "    structure = pDB2OEMol(pdbfile)\n",
    "    print('\\nPDB file opened into OEGraphMol\\n')\n",
    "    # Generate dictionary containing locations and indicies of heavy residue atoms\n",
    "    qry_atoms = getTargetAtoms(structure, residue_list)\n",
    "    print('Dictionary of query atoms generated from residue list\\n')\n",
    "    # Identify bonds containing query atoms and return dictionary of indicies\n",
    "    rot_atoms = findHeavyRotBonds(structure,qry_atoms)\n",
    "    print('\\nRotable bond and atom index dictionary generated with format: {Bond Index: {Atom1Index:, Atom2Index:}}')\n",
    "    print('\\n')\n",
    "    print(rot_atoms)"
   ]
  },
  {
   "cell_type": "code",
   "execution_count": 42,
   "metadata": {},
   "outputs": [
    {
     "name": "stdout",
     "output_type": "stream",
     "text": [
      "\n",
      "PDB file opened into OEGraphMol\n",
      "\n",
      "Searching residues for heavy atoms...\n",
      "Found 1737 C\n",
      "Found 1739 C\n",
      "Found 1743 C\n",
      "\n",
      "\n",
      "Dictionary of query atoms generated from residue list\n",
      "\n",
      "Bond number 1746 (1737C-1735C) is rotatable and contains only heavy atoms\n",
      "Bond number 1748 (1739C-1737C) is rotatable and contains only heavy atoms\n",
      "Bond number 1752 (1743C-1737C) is rotatable and contains only heavy atoms\n",
      "\n",
      "Rotable bond and atom index dictionary generated with format: {Bond Index: {Atom1Index:, Atom2Index:}}\n",
      "\n",
      "\n",
      "{1752: {'AtomIdx_1': 1743, 'AtomIdx_2': 1737}, 1746: {'AtomIdx_1': 1737, 'AtomIdx_2': 1735}, 1748: {'AtomIdx_1': 1739, 'AtomIdx_2': 1737}}\n"
     ]
    }
   ],
   "source": [
    "#Test GetRotBonds function using .pdb file and list of residues\n",
    "\n",
    "# Load parmed files and output as pdb\n",
    "prmtop = utils.get_data_filename('blues', 'tests/data/eqToluene.prmtop')\n",
    "inpcrd = utils.get_data_filename('blues', 'tests/data/eqToluene.inpcrd')\n",
    "# Load these into a ParmEd Structure called `struct`\n",
    "struct = parmed.load_file(prmtop, xyz=inpcrd)\n",
    "prot = struct.save('protein.pdb', overwrite = True)\n",
    "\n",
    "\n",
    "# define a residue list\n",
    "my_residues = [111]\n",
    "\n",
    "# call function\n",
    "my_rotatable_atoms = getRotBonds('protein.pdb', my_residues)"
   ]
  },
  {
   "cell_type": "code",
   "execution_count": 34,
   "metadata": {},
   "outputs": [
    {
     "name": "stdout",
     "output_type": "stream",
     "text": [
      "[0, 4, 17, 18, 19, 21, 31, 32, 33, 35, 50, 51, 52, 54, 70, 71, 72, 74, 85, 86, 87, 89, 102, 103, 104, 106, 121, 122, 123, 125, 145, 146, 147, 149, 164, 165, 166, 168, 176, 177, 178, 180, 191, 192, 193, 195, 198, 199, 200, 202, 217, 218, 219, 221, 241, 242, 243, 245, 260, 261, 262, 264, 282, 283, 284, 286, 301, 302, 303, 305, 322, 323, 324, 326, 344, 345, 346, 348, 356, 357, 358, 360, 370, 371, 372, 374, 385, 386, 387, 389, 392, 393, 394, 396, 413, 414, 415, 417, 434, 435, 436, 438, 448, 449, 450, 452, 467, 468, 469, 471, 474, 475, 476, 478, 493, 494, 495, 497, 500, 501, 502, 504, 517, 518, 519, 521, 536, 537, 538, 540, 555, 556, 557, 559, 569, 570, 571, 573, 591, 592, 593, 595, 602, 603, 604, 614, 616, 617, 618, 620, 627, 628, 629, 631, 646, 647, 648, 650, 660, 661, 662, 664, 670, 671, 672, 674, 680, 681, 682, 684, 702, 703, 704, 706, 713, 714, 715, 717, 728, 729, 730, 732, 747, 748, 749, 751, 759, 760, 761, 763, 781, 782, 783, 785, 791, 792, 793, 795, 810, 811, 812, 814, 817, 818, 819, 821, 841, 842, 843, 845, 855, 856, 857, 859, 866, 867, 868, 870, 880, 881, 882, 884, 887, 888, 889, 891, 903, 904, 905, 907, 922, 923, 924, 926, 936, 937, 938, 940, 958, 959, 960, 962, 970, 971, 972, 974, 985, 986, 987, 989, 995, 996, 997, 999, 1010, 1011, 1012, 1014, 1032, 1033, 1034, 1036, 1051, 1052, 1053, 1055, 1071, 1072, 1073, 1075, 1085, 1086, 1087, 1089, 1102, 1103, 1104, 1106, 1114, 1115, 1116, 1118, 1130, 1131, 1132, 1134, 1142, 1143, 1144, 1146, 1152, 1153, 1154, 1156, 1162, 1163, 1164, 1166, 1178, 1179, 1180, 1182, 1202, 1203, 1204, 1206, 1209, 1210, 1211, 1213, 1228, 1229, 1230, 1232, 1247, 1248, 1249, 1251, 1271, 1272, 1273, 1275, 1285, 1286, 1287, 1289, 1295, 1296, 1297, 1299, 1317, 1318, 1319, 1321, 1336, 1337, 1338, 1340, 1358, 1359, 1360, 1370, 1372, 1373, 1374, 1376, 1388, 1389, 1390, 1392, 1409, 1410, 1411, 1413, 1421, 1422, 1423, 1425, 1432, 1433, 1434, 1436, 1451, 1452, 1453, 1455, 1463, 1464, 1465, 1467, 1473, 1474, 1475, 1477, 1489, 1490, 1491, 1493, 1513, 1514, 1515, 1517, 1537, 1538, 1539, 1541, 1548, 1549, 1550, 1552, 1558, 1559, 1560, 1562, 1568, 1569, 1570, 1572, 1587, 1588, 1589, 1591, 1601, 1602, 1603, 1605, 1618, 1619, 1620, 1622, 1634, 1635, 1636, 1638, 1654, 1655, 1656, 1658, 1671, 1672, 1673, 1675, 1688, 1689, 1690, 1692, 1695, 1696, 1697, 1699, 1710, 1711, 1712, 1714, 1724, 1725, 1726, 1728, 1731, 1732, 1733, 1735, 1747, 1748, 1749, 1751, 1757, 1758, 1759, 1761, 1764, 1765, 1766, 1768, 1784, 1785, 1786, 1788, 1798, 1799, 1800, 1802, 1812, 1813, 1814, 1816, 1823, 1824, 1825, 1827, 1842, 1843, 1844, 1846, 1866, 1867, 1868, 1870, 1883, 1884, 1885, 1887, 1902, 1903, 1904, 1906, 1919, 1920, 1921, 1923, 1936, 1937, 1938, 1940, 1958, 1959, 1960, 1962, 1982, 1983, 1984, 1986, 2006, 2007, 2008, 2010, 2018, 2019, 2020, 2022, 2033, 2034, 2035, 2037, 2043, 2044, 2045, 2047, 2053, 2054, 2055, 2057, 2069, 2070, 2071, 2073, 2083, 2084, 2085, 2087, 2102, 2103, 2104, 2106, 2112, 2113, 2114, 2116, 2134, 2135, 2136, 2138, 2145, 2146, 2147, 2149, 2169, 2170, 2171, 2173, 2193, 2194, 2195, 2197, 2214, 2215, 2216, 2218, 2228, 2229, 2230, 2232, 2245, 2246, 2247, 2249, 2259, 2260, 2261, 2271, 2273, 2274, 2275, 2277, 2287, 2288, 2289, 2291, 2311, 2312, 2313, 2315, 2321, 2322, 2323, 2325, 2343, 2344, 2345, 2347, 2367, 2368, 2369, 2371, 2383, 2384, 2385, 2387, 2402, 2403, 2404, 2406, 2416, 2417, 2418, 2420, 2430, 2431, 2432, 2434, 2450, 2451, 2452, 2454, 2474, 2475, 2476, 2478, 2488, 2489, 2490, 2492, 2495, 2496, 2497, 2499, 2509, 2510, 2511, 2513, 2533, 2534, 2535, 2537, 2545, 2546, 2547, 2549, 2555, 2556, 2557, 2559, 2576, 2577, 2578, 2580, 2598, 2599, 2600, 2602, 2612, 2613, 2614, 2616, 2631, 2632]\n"
     ]
    }
   ],
   "source": [
    "pdb_OEMol = pDB2OEMol('protein.pdb')\n",
    "y = getBackboneAtoms(pdb_OEMol)"
   ]
  },
  {
   "cell_type": "code",
   "execution_count": 16,
   "metadata": {
    "collapsed": true
   },
   "outputs": [],
   "source": []
  },
  {
   "cell_type": "code",
   "execution_count": null,
   "metadata": {},
   "outputs": [],
   "source": []
  },
  {
   "cell_type": "code",
   "execution_count": null,
   "metadata": {
    "collapsed": true
   },
   "outputs": [],
   "source": []
  },
  {
   "cell_type": "code",
   "execution_count": null,
   "metadata": {
    "collapsed": true
   },
   "outputs": [],
   "source": []
  }
 ],
 "metadata": {
  "kernelspec": {
   "display_name": "Python [default]",
   "language": "python",
   "name": "python3"
  },
  "language_info": {
   "codemirror_mode": {
    "name": "ipython",
    "version": 3
   },
   "file_extension": ".py",
   "mimetype": "text/x-python",
   "name": "python",
   "nbconvert_exporter": "python",
   "pygments_lexer": "ipython3",
   "version": "3.5.3"
  }
 },
 "nbformat": 4,
 "nbformat_minor": 2
}
