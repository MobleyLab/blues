{
 "cells": [
  {
   "cell_type": "code",
   "execution_count": 1,
   "metadata": {
    "collapsed": false
   },
   "outputs": [],
   "source": [
    "from simtk import unit, openmm\n",
    "from simtk.openmm import app\n",
    "from alchemy import AbsoluteAlchemicalFactory, AlchemicalState\n",
    "\n",
    "import blues.utils as utils\n",
    "import blues.ncmc as ncmc\n",
    "import blues.ncmc_switching as ncmc_switching\n",
    "from blues.smartdart import SmartDarting\n",
    "\n",
    "import sys\n",
    "import numpy as np\n",
    "import mdtraj as md\n",
    "from mdtraj.reporters import HDF5Reporter\n",
    "from datetime import datetime\n",
    "from optparse import OptionParser"
   ]
  },
  {
   "cell_type": "code",
   "execution_count": 90,
   "metadata": {
    "collapsed": false
   },
   "outputs": [],
   "source": [
    "# Define some constants\n",
    "temperature = 300.0*unit.kelvin\n",
    "friction = 1/unit.picosecond\n",
    "dt = 0.002*unit.picoseconds\n",
    "# set nc attributes\n",
    "numIter = 10\n",
    "nstepsNC = 10\n",
    "nstepsMD = 50\n",
    "#Defines ncmc move eqns for lambda peturbation of sterics/electrostatics\n",
    "functions = { 'lambda_sterics' : 'step(0.199999-lambda) + step(lambda-0.2)*step(0.8-lambda)*abs(lambda-0.5)*1/0.3 + step(lambda-0.800001)',\n",
    "            'lambda_electrostatics' : 'step(0.2-lambda)- 1/0.2*lambda*step(0.2-lambda) + 1/0.2*(lambda-0.8)*step(lambda-0.8)' }"
   ]
  },
  {
   "cell_type": "code",
   "execution_count": 122,
   "metadata": {
    "collapsed": false
   },
   "outputs": [],
   "source": [
    "# Obtain topologies/positions\n",
    "coord_file = 'eqToluene.inpcrd'\n",
    "top_file =   'eqToluene.prmtop'\n",
    "prmtop = app.AmberPrmtopFile(top_file)\n",
    "inpcrd = app.AmberInpcrdFile(coord_file)\n",
    "# Generate OpenMM System\n",
    "system = prmtop.createSystem(nonbondedMethod=app.PME,\n",
    "                            nonbondedCutoff=1*unit.nanometer,\n",
    "                            constraints=app.HBonds)"
   ]
  },
  {
   "cell_type": "code",
   "execution_count": 123,
   "metadata": {
    "collapsed": false
   },
   "outputs": [],
   "source": [
    "# Initailize MD Simulation\n",
    "mdIntegrator = openmm.LangevinIntegrator(temperature, friction, dt)\n",
    "mdSim = app.Simulation(prmtop.topology, system, mdIntegrator)\n",
    "mdSim.context.setPositions(inpcrd.positions)\n",
    "mdSim.context.setVelocitiesToTemperature(temperature)\n",
    "mdSim.context.setPeriodicBoxVectors(*inpcrd.boxVectors)\n",
    "# Add reporters for MD simulation\n",
    "mdSim.reporters.append(app.dcdreporter.DCDReporter('traj.dcd', nstepsMD))\n",
    "#mdSim.reporters.append(HDF5Reporter('traj.h5', nstepsMD))"
   ]
  },
  {
   "cell_type": "code",
   "execution_count": 150,
   "metadata": {
    "collapsed": false
   },
   "outputs": [],
   "source": [
    "class SimulateNCMC(object):\n",
    "    def __init__(self, md_simulation, resname, \n",
    "                 platform=None, platformProperties=None, state=None):\n",
    "        \n",
    "        #Set reference variables from MD\n",
    "        self.topology = md_simulation.topology\n",
    "        self.system = md_simulation.system\n",
    "        self.integrator = md_simulation.integrator\n",
    "        self.resname = resname\n",
    "        self.box_vectors = self.system.getDefaultPeriodicBoxVectors()\n",
    "        #self.context = md_simulation.context\n",
    "        \n",
    "        # Set physical parameters\n",
    "        self.temperature = 300.0*unit.kelvin\n",
    "        self.friction = 1/unit.picosecond\n",
    "        self.dt = 0.002*unit.picoseconds\n",
    "        kB = unit.BOLTZMANN_CONSTANT_kB * unit.AVOGADRO_CONSTANT_NA\n",
    "        self.beta = 1.0 / (kB * temperature)\n",
    "        \n",
    "        self.numIter = 10\n",
    "        self.nstepsNC = 10\n",
    "        self.nstepsMD = 50 \n",
    "        \n",
    "        ## The index of the current time step\n",
    "        self.currentStep = 0\n",
    "        ## A list of reporters to invoke during the simulation\n",
    "        self.reporters = []\n",
    "        \n",
    "        #Defines ncmc move eqns for lambda peturbation of sterics/electrostatics\n",
    "        self.functions = {\n",
    "            'lambda_sterics' : 'step(0.199999-lambda) + step(lambda-0.2)*step(0.8-lambda)*abs(lambda-0.5)*1/0.3 + step(lambda-0.800001)',\n",
    "            'lambda_electrostatics' : 'step(0.2-lambda)- 1/0.2*lambda*step(0.2-lambda) + 1/0.2*(lambda-0.8)*step(lambda-0.8)' \n",
    "        }\n",
    "        \n",
    "        self.totalmass = 0\n",
    "        self.masslist = []\n",
    "        self.atomsIdx = []\n",
    "        self.alchemicalSystem = None\n",
    "        self.alchemicalSim = None\n",
    "        self.ncContext = None\n",
    "        self.ncPositions = None\n",
    "        self.positions = None\n",
    "        \n",
    "        self.acceptance = 0\n",
    "        self.nc_integrator = None\n",
    "        \n",
    "        self._storage = None\n",
    "        self.com = None\n",
    "        self.rotation = None\n",
    "        \n",
    "       \n",
    "\n",
    "    def setAtomsIdx(self):\n",
    "        idx = []\n",
    "        for atom in self.topology.atoms():\n",
    "            if str(self.resname) in atom.residue.name:\n",
    "                idx.append(atom.index)\n",
    "        self.atomsIdx = idx\n",
    "        print('Ligand atoms:', self.atomsIdx)\n",
    "        return self.atomsIdx\n",
    "    \n",
    "    def generateAlchemicalSimulation(self):\n",
    "        #Initialize Alchemical Simulation\n",
    "        # performs alchemical corrections\n",
    "        # Reporter for NCMC moves\n",
    "        alchemicalIntegrator = openmm.LangevinIntegrator(self.temperature, \n",
    "                                                      self.friction,\n",
    "                                                      self.dt)\n",
    "        alchemicalSim = app.Simulation(self.topology, self.system, alchemicalIntegrator)\n",
    "        alchemicalSim.context.setPeriodicBoxVectors(*self.box_vectors)\n",
    "        self.alchemicalSim = alchemicalSim\n",
    "        print('Generated Alchemical Simulation:', type(alchemicalSim))\n",
    "        return self.alchemicalSim\n",
    "    \n",
    "    def generateAlchemicalSystem(self):        \n",
    "        # Generate Alchemical System\n",
    "        factory = AbsoluteAlchemicalFactory(self.system, ligand_atoms=self.atomsIdx,\n",
    "                                            annihilate_sterics=True,\n",
    "                                            annihilate_electrostatics=True)\n",
    "        alchemicalSystem = factory.createPerturbedSystem()\n",
    "        self.alchemicalSystem = alchemicalSystem\n",
    "        print('Generated Alchemical System:', type(alchemicalSystem))\n",
    "        return self.alchemicalSystem\n",
    "    \n",
    "    def generateNCContext(self):\n",
    "        ncIntegrator = ncmc_switching.NCMCVVAlchemicalIntegrator(self.temperature, \n",
    "                                                                 self.alchemicalSystem,\n",
    "                                                                 self.functions,\n",
    "                                                                 nsteps=self.nstepsNC)\n",
    "        ncContext = openmm.Context(self.alchemicalSystem, ncIntegrator)\n",
    "        ncContext.setPeriodicBoxVectors(*self.box_vectors)\n",
    "        self.ncContext = ncContext\n",
    "        print('Generated NCMC context:', type(ncContext))\n",
    "        return self.ncContext\n",
    "    \n",
    "    def getMasses(self):\n",
    "        masses = unit.Quantity(np.zeros([len(self.atomsIdx),1],np.float32), unit.dalton)\n",
    "        #sytem = context.getSystem()\n",
    "        for ele, idx in enumerate(self.atomsIdx):\n",
    "            masses[ele] = self.system.getParticleMass(idx)\n",
    "        self.masses = masses\n",
    "        self.totalmass = self.getTotalMass(masses)\n",
    "        return self.masses\n",
    "    \n",
    "    def getTotalMass(self, masses):\n",
    "        self.totalmass = masses.sum()\n",
    "        return self.totalmass\n",
    "    \n",
    "    def getCOM(self):\n",
    "        #positions = self.getPositions(context, atomsIdx)\n",
    "        com =  (masses / totalmass * positions).sum(0)\n",
    "        self.com = com\n",
    "        return self.com\n",
    "\n",
    "    def getPositions(self, context, index=[] ):\n",
    "        state = context.getState(getPositions=True)\n",
    "        pos_array = state.getPositions(asNumpy=True)\n",
    "        coordinates = pos_array / unit.nanometers\n",
    "        if not index:\n",
    "            index = range(len(coordinates))\n",
    "        else:\n",
    "            index = self.atomsIdx\n",
    "        positions = unit.Quantity(np.zeros( [len(index),3], np.float32), unit.nanometers)\n",
    "        for e, i in enumerate(index):\n",
    "            positions[e,:] = unit.Quantity(coordinates[i], unit.nanometers)\n",
    "        return positions\n",
    "\n",
    "    def generateRotation(self):\n",
    "        comPos = self.getCOM(context, atomsIdx)\n",
    "        alchPos = self.getPositions(context, atomsIdx)\n",
    "        # Remove COM from alchemical positions to perform rotation\n",
    "        tempPos = alchPos - comPos\n",
    "        # Dot alchPostions with rotation matrix,\n",
    "        rotPos = unit.Quantity( np.dot(tempPos, rand_rotation_matrix()), unit.nanometers)\n",
    "        rotation = rotPos + comPos\n",
    "        self.rotation = rotation\n",
    "        return self.rotation\n",
    "    \n",
    "    def rand_rotation_matrix():\n",
    "        rand_quat = md.utils.uniform_quaternion()\n",
    "        matrix_out = md.utils.rotation_matrix_from_quaternion(rand_quat)\n",
    "        return matrix_out\n",
    "        \n",
    "    def updatePositions(self, context, index=[], positions):\n",
    "        #Store reference positions\n",
    "        self.positions = self.getPositions(self.context)\n",
    "        for ele, idx in enumerate(atomsIdx):\n",
    "            positions[idx] = newpositions[ele]\n",
    "        self.positions = positions\n",
    "        self.context = context.setPositions(positions)\n",
    "        return self.positions\n",
    "    \n",
    "    def _prepNCMC(self):\n",
    "        #First Generate MD Simulation object\n",
    "        self.setAtomsIdx(self.resname, self.topology)\n",
    "        #Generate Alchemical System/contexts\n",
    "        self.generateAlchemicalSystem()\n",
    "        self.generateAlchemicalSimulation()\n",
    "        #Generate NC contexts\n",
    "        self.generateNCContext()\n",
    "        \n",
    "    def _simulation(self): \n",
    "        ### Set Initial Conditions\n",
    "        #Set NC positions to reference from MD\n",
    "        mdState = md_simulation.context.getState(getPositions=True,\n",
    "                                                  getVelocities=True,\n",
    "                                                  getEnergy=True,\n",
    "                                                  getParameters=True,\n",
    "                                                  enforcePeriodicBox=True)\n",
    "        ncState = ncContext.getState(getPositions=True)\n",
    "        \n",
    "        self.ncPositions = self.getPositions(self.ncContext)\n",
    "        \n",
    "        #Define our rotational move\n",
    "        #Update masses for current context\n",
    "        masses = self.getMasses()\n",
    "        totalmass = self.getTotalMass(masses)\n",
    "        #self.getMasses()\n",
    "        "
   ]
  },
  {
   "cell_type": "code",
   "execution_count": 174,
   "metadata": {
    "collapsed": false
   },
   "outputs": [
    {
     "name": "stdout",
     "output_type": "stream",
     "text": [
      "Ligand atoms: [2634, 2635, 2636, 2637, 2638, 2639, 2640, 2641, 2642, 2643, 2644, 2645, 2646, 2647, 2648]\n",
      "Generated Alchemical System: <class 'simtk.openmm.openmm.System'>\n",
      "Generated Alchemical Simulation: <class 'simtk.openmm.app.simulation.Simulation'>\n",
      "Generated NCMC context: <class 'simtk.openmm.openmm.Context'>\n"
     ]
    }
   ],
   "source": [
    "testSim = SimulateNCMC(mdSim, 'LIG')\n",
    "testSim.setAtomsIdx()\n",
    "testSim.generateAlchemicalSystem()\n",
    "testSim.generateAlchemicalSimulation()\n",
    "nc_context = testSim.generateNCContext()"
   ]
  },
  {
   "cell_type": "code",
   "execution_count": 223,
   "metadata": {
    "collapsed": false
   },
   "outputs": [],
   "source": [
    "def getPositions(context, index=[]):\n",
    "    pos_array = context.getState(getPositions=True).getPositions(asNumpy=True)\n",
    "    coordinates = pos_array / unit.nanometers\n",
    "    if not index:\n",
    "        print('index is none')\n",
    "        index = range(len(coordinates))\n",
    "        print(index)\n",
    "    else:\n",
    "        index = [2634, 2635, 2636, 2637, 2638, 2639, 2640, 2641, 2642, 2643, 2644, 2645, 2646, 2647, 2648] \n",
    "        print('index is not none')\n",
    "    positions = unit.Quantity(np.zeros( [len(index),3], np.float32), unit.nanometers)\n",
    "    for e, i in enumerate(index):\n",
    "        positions[e,:] = unit.Quantity(coordinates[i], unit.nanometers)\n",
    "    print(positions)\n",
    "    return positions"
   ]
  },
  {
   "cell_type": "code",
   "execution_count": 224,
   "metadata": {
    "collapsed": false
   },
   "outputs": [
    {
     "name": "stdout",
     "output_type": "stream",
     "text": [
      "index is none\n",
      "range(0, 22340)\n",
      "[[ 3.34299994  1.12800002  4.44899988]\n",
      " [ 3.28600001  1.18700004  4.50899982]\n",
      " [ 3.29699993  1.03799999  4.44399977]\n",
      " ..., \n",
      " [ 1.949       3.5150001   0.73299998]\n",
      " [ 1.97300005  3.56299996  0.81199998]\n",
      " [ 1.87800002  3.45700002  0.75999999]] nm\n"
     ]
    }
   ],
   "source": [
    "\n",
    "nc_pos = getPositions(nc_context)"
   ]
  },
  {
   "cell_type": "code",
   "execution_count": 215,
   "metadata": {
    "collapsed": false
   },
   "outputs": [
    {
     "data": {
      "text/plain": [
       "range(0, 22340)"
      ]
     },
     "execution_count": 215,
     "metadata": {},
     "output_type": "execute_result"
    }
   ],
   "source": [
    "range(len(pos_array))"
   ]
  },
  {
   "cell_type": "code",
   "execution_count": 153,
   "metadata": {
    "collapsed": false
   },
   "outputs": [
    {
     "data": {
      "text/plain": [
       "Quantity(value=array([], shape=(0, 3), dtype=float32), unit=nanometer)"
      ]
     },
     "execution_count": 153,
     "metadata": {},
     "output_type": "execute_result"
    }
   ],
   "source": [
    "nc_pos"
   ]
  },
  {
   "cell_type": "code",
   "execution_count": null,
   "metadata": {
    "collapsed": true
   },
   "outputs": [],
   "source": []
  },
  {
   "cell_type": "code",
   "execution_count": 73,
   "metadata": {
    "collapsed": false
   },
   "outputs": [],
   "source": [
    "# Generate NC Integrator/Contexts\n",
    "ncIntegrator = ncmc_switching.NCMCVVAlchemicalIntegrator(temperature, alchemySystem, functions,\n",
    "                                          nsteps=nstepsNC)\n",
    "nc_context = openmm.Context(alchemySystem, ncIntegrator)\n",
    "nc_context.setPeriodicBoxVectors(*inpcrd.boxVectors)"
   ]
  },
  {
   "cell_type": "code",
   "execution_count": 75,
   "metadata": {
    "collapsed": true
   },
   "outputs": [],
   "source": [
    "# Initialize BLUES engineb\n",
    "blues_run = SimNCMC(temperature, ligand_atoms)"
   ]
  },
  {
   "cell_type": "code",
   "execution_count": 76,
   "metadata": {
    "collapsed": false
   },
   "outputs": [
    {
     "name": "stdout",
     "output_type": "stream",
     "text": [
      "performing ncmc step\n",
      "accCounter = 0\n",
      "doing the move\n",
      "before step 0.4\n",
      "[[ 2.44499752  2.3829845   2.83696856]\n",
      " [ 2.31063967  2.3696759   2.88333503]\n",
      " [ 2.54539233  2.29625125  2.88578685]\n",
      " [ 2.2796032   2.28091881  2.97956349]\n",
      " [ 2.50563998  2.19912418  2.9781453 ]\n",
      " [ 2.374742    2.18761226  3.02316966]\n",
      " [ 2.34198516  2.08976972  3.12664346]\n",
      " [ 2.46779674  2.46165307  2.76560714]\n",
      " [ 2.23039163  2.4344837   2.84741568]\n",
      " [ 2.64736206  2.31609139  2.85482651]\n",
      " [ 2.17994698  2.26818445  3.02302005]\n",
      " [ 2.58200596  2.12790552  3.01186682]\n",
      " [ 2.28190674  2.13754955  3.20486539]\n",
      " [ 2.28309936  2.00833523  3.08190101]\n",
      " [ 2.42734837  2.03475159  3.16501177]] rot_output\n",
      "[ 2.237  2.168  2.977] [ 2.44499752  2.3829845   2.83696856]\n",
      "[ 2.26   2.293  3.042] [ 2.31063967  2.3696759   2.88333503]\n",
      "[ 2.34   2.108  2.901] [ 2.54539233  2.29625125  2.88578685]\n",
      "[ 2.376  2.359  3.025] [ 2.2796032   2.28091881  2.97956349]\n",
      "[ 2.462  2.176  2.895] [ 2.50563998  2.19912418  2.9781453 ]\n",
      "[ 2.483  2.298  2.958] [ 2.374742    2.18761226  3.02316966]\n",
      "[ 2.61   2.368  2.94 ] [ 2.34198516  2.08976972  3.12664346]\n",
      "[ 2.139  2.122  2.986] [ 2.46779674  2.46165307  2.76560714]\n",
      "[ 2.183  2.342  3.102] [ 2.23039163  2.4344837   2.84741568]\n",
      "[ 2.315  2.018  2.846] [ 2.64736206  2.31609139  2.85482651]\n",
      "[ 2.399  2.457  3.068] [ 2.17994698  2.26818445  3.02302005]\n",
      "[ 2.544  2.127  2.841] [ 2.58200596  2.12790552  3.01186682]\n",
      "[ 2.591  2.473  2.915] [ 2.28190674  2.13754955  3.20486539]\n",
      "[ 2.667  2.364  3.034] [ 2.28309936  2.00833523  3.08190101]\n",
      "[ 2.679  2.319  2.872] [ 2.42734837  2.03475159  3.16501177]\n",
      "[[ 3.343  1.128  4.449]\n",
      " [ 3.286  1.187  4.509]\n",
      " [ 3.297  1.038  4.444]\n",
      " ..., \n",
      " [ 1.949  3.515  0.733]\n",
      " [ 1.973  3.563  0.812]\n",
      " [ 1.878  3.457  0.76 ]]\n",
      "nan, breaking\n"
     ]
    },
    {
     "ename": "Exception",
     "evalue": "Particle coordinate is nan",
     "output_type": "error",
     "traceback": [
      "\u001b[0;31m---------------------------------------------------------------------------\u001b[0m",
      "\u001b[0;31mException\u001b[0m                                 Traceback (most recent call last)",
      "\u001b[0;32m<ipython-input-76-5dfdad094022>\u001b[0m in \u001b[0;36m<module>\u001b[0;34m()\u001b[0m\n\u001b[1;32m      5\u001b[0m                     \u001b[0malchemySim\u001b[0m\u001b[0;34m,\u001b[0m \u001b[0mmovekey\u001b[0m\u001b[0;34m=\u001b[0m\u001b[0mnc_move\u001b[0m\u001b[0;34m,\u001b[0m\u001b[0;34m\u001b[0m\u001b[0m\n\u001b[1;32m      6\u001b[0m                     \u001b[0mniter\u001b[0m\u001b[0;34m=\u001b[0m\u001b[0mnumIter\u001b[0m\u001b[0;34m,\u001b[0m \u001b[0mnstepsNC\u001b[0m\u001b[0;34m=\u001b[0m\u001b[0mnstepsNC\u001b[0m\u001b[0;34m,\u001b[0m \u001b[0mnstepsMD\u001b[0m\u001b[0;34m=\u001b[0m\u001b[0mnstepsMD\u001b[0m\u001b[0;34m,\u001b[0m\u001b[0;34m\u001b[0m\u001b[0m\n\u001b[0;32m----> 7\u001b[0;31m                     alchemical_correction=True)\n\u001b[0m",
      "\u001b[0;32m<ipython-input-74-350c60a919b9>\u001b[0m in \u001b[0;36mrunSim\u001b[0;34m(self, md_simulation, nc_context, nc_integrator, dummy_simulation, movekey, nstepsNC, nstepsMD, niter, periodic, verbose, atomsIdx, alchemical_correction, ncmc_storage, write_ncmc_interval)\u001b[0m\n\u001b[1;32m    453\u001b[0m \u001b[0;34m\u001b[0m\u001b[0m\n\u001b[1;32m    454\u001b[0m             \u001b[0mlog_ncmc\u001b[0m \u001b[0;34m=\u001b[0m \u001b[0mnc_integrator\u001b[0m\u001b[0;34m.\u001b[0m\u001b[0mgetLogAcceptanceProbability\u001b[0m\u001b[0;34m(\u001b[0m\u001b[0mnc_context\u001b[0m\u001b[0;34m)\u001b[0m\u001b[0;34m\u001b[0m\u001b[0m\n\u001b[0;32m--> 455\u001b[0;31m             \u001b[0mnewinfo\u001b[0m \u001b[0;34m=\u001b[0m \u001b[0mnc_context\u001b[0m\u001b[0;34m.\u001b[0m\u001b[0mgetState\u001b[0m\u001b[0;34m(\u001b[0m\u001b[0;32mTrue\u001b[0m\u001b[0;34m,\u001b[0m \u001b[0;32mTrue\u001b[0m\u001b[0;34m,\u001b[0m \u001b[0;32mFalse\u001b[0m\u001b[0;34m,\u001b[0m \u001b[0;32mTrue\u001b[0m\u001b[0;34m,\u001b[0m \u001b[0;32mTrue\u001b[0m\u001b[0;34m,\u001b[0m \u001b[0mperiodic\u001b[0m\u001b[0;34m)\u001b[0m\u001b[0;34m\u001b[0m\u001b[0m\n\u001b[0m\u001b[1;32m    456\u001b[0m             \u001b[0mnewPos\u001b[0m \u001b[0;34m=\u001b[0m \u001b[0mnewinfo\u001b[0m\u001b[0;34m.\u001b[0m\u001b[0mgetPositions\u001b[0m\u001b[0;34m(\u001b[0m\u001b[0masNumpy\u001b[0m\u001b[0;34m=\u001b[0m\u001b[0;32mTrue\u001b[0m\u001b[0;34m)\u001b[0m\u001b[0;34m\u001b[0m\u001b[0m\n\u001b[1;32m    457\u001b[0m             \u001b[0mnewVel\u001b[0m \u001b[0;34m=\u001b[0m \u001b[0mnewinfo\u001b[0m\u001b[0;34m.\u001b[0m\u001b[0mgetVelocities\u001b[0m\u001b[0;34m(\u001b[0m\u001b[0masNumpy\u001b[0m\u001b[0;34m=\u001b[0m\u001b[0;32mTrue\u001b[0m\u001b[0;34m)\u001b[0m\u001b[0;34m\u001b[0m\u001b[0m\n",
      "\u001b[0;32m/home/nathanlim/anaconda3/envs/blues-dev/lib/python3.5/site-packages/simtk/openmm/openmm.py\u001b[0m in \u001b[0;36mgetState\u001b[0;34m(self, getPositions, getVelocities, getForces, getEnergy, getParameters, enforcePeriodicBox, groups)\u001b[0m\n\u001b[1;32m  13780\u001b[0m         (simTime, periodicBoxVectorsList, energy, coordList, velList,\n\u001b[1;32m  13781\u001b[0m          forceList, paramMap) = \\\n\u001b[0;32m> 13782\u001b[0;31m             \u001b[0mself\u001b[0m\u001b[0;34m.\u001b[0m\u001b[0m_getStateAsLists\u001b[0m\u001b[0;34m(\u001b[0m\u001b[0mgetP\u001b[0m\u001b[0;34m,\u001b[0m \u001b[0mgetV\u001b[0m\u001b[0;34m,\u001b[0m \u001b[0mgetF\u001b[0m\u001b[0;34m,\u001b[0m \u001b[0mgetE\u001b[0m\u001b[0;34m,\u001b[0m \u001b[0mgetPa\u001b[0m\u001b[0;34m,\u001b[0m \u001b[0menforcePeriodic\u001b[0m\u001b[0;34m,\u001b[0m \u001b[0mgroups_mask\u001b[0m\u001b[0;34m)\u001b[0m\u001b[0;34m\u001b[0m\u001b[0m\n\u001b[0m\u001b[1;32m  13783\u001b[0m \u001b[0;34m\u001b[0m\u001b[0m\n\u001b[1;32m  13784\u001b[0m         state = State(simTime=simTime,\n",
      "\u001b[0;32m/home/nathanlim/anaconda3/envs/blues-dev/lib/python3.5/site-packages/simtk/openmm/openmm.py\u001b[0m in \u001b[0;36m_getStateAsLists\u001b[0;34m(self, getPositions, getVelocities, getForces, getEnergy, getParameters, enforcePeriodic, groups)\u001b[0m\n\u001b[1;32m  13732\u001b[0m     \u001b[0;32mdef\u001b[0m \u001b[0m_getStateAsLists\u001b[0m\u001b[0;34m(\u001b[0m\u001b[0mself\u001b[0m\u001b[0;34m,\u001b[0m \u001b[0mgetPositions\u001b[0m\u001b[0;34m,\u001b[0m \u001b[0mgetVelocities\u001b[0m\u001b[0;34m,\u001b[0m \u001b[0mgetForces\u001b[0m\u001b[0;34m,\u001b[0m \u001b[0mgetEnergy\u001b[0m\u001b[0;34m,\u001b[0m \u001b[0mgetParameters\u001b[0m\u001b[0;34m,\u001b[0m \u001b[0menforcePeriodic\u001b[0m\u001b[0;34m,\u001b[0m \u001b[0mgroups\u001b[0m\u001b[0;34m)\u001b[0m\u001b[0;34m:\u001b[0m\u001b[0;34m\u001b[0m\u001b[0m\n\u001b[1;32m  13733\u001b[0m         \u001b[0;34m\"\"\"_getStateAsLists(self, getPositions, getVelocities, getForces, getEnergy, getParameters, enforcePeriodic, groups) -> PyObject *\"\"\"\u001b[0m\u001b[0;34m\u001b[0m\u001b[0m\n\u001b[0;32m> 13734\u001b[0;31m         \u001b[0;32mreturn\u001b[0m \u001b[0m_openmm\u001b[0m\u001b[0;34m.\u001b[0m\u001b[0mContext__getStateAsLists\u001b[0m\u001b[0;34m(\u001b[0m\u001b[0mself\u001b[0m\u001b[0;34m,\u001b[0m \u001b[0mgetPositions\u001b[0m\u001b[0;34m,\u001b[0m \u001b[0mgetVelocities\u001b[0m\u001b[0;34m,\u001b[0m \u001b[0mgetForces\u001b[0m\u001b[0;34m,\u001b[0m \u001b[0mgetEnergy\u001b[0m\u001b[0;34m,\u001b[0m \u001b[0mgetParameters\u001b[0m\u001b[0;34m,\u001b[0m \u001b[0menforcePeriodic\u001b[0m\u001b[0;34m,\u001b[0m \u001b[0mgroups\u001b[0m\u001b[0;34m)\u001b[0m\u001b[0;34m\u001b[0m\u001b[0m\n\u001b[0m\u001b[1;32m  13735\u001b[0m \u001b[0;34m\u001b[0m\u001b[0m\n\u001b[1;32m  13736\u001b[0m \u001b[0;34m\u001b[0m\u001b[0m\n",
      "\u001b[0;31mException\u001b[0m: Particle coordinate is nan"
     ]
    }
   ],
   "source": [
    "rot_step = (nstepsNC/2) -1\n",
    "nc_move = [[blues_run.rotationalMove, [rot_step]]]\n",
    "blues_run.getParticleMass(system, ligand_atoms)\n",
    "blues_run.runSim(mdSim, nc_context, ncIntegrator,\n",
    "                    alchemySim, movekey=nc_move,\n",
    "                    niter=numIter, nstepsNC=nstepsNC, nstepsMD=nstepsMD,\n",
    "                    alchemical_correction=True)"
   ]
  },
  {
   "cell_type": "code",
   "execution_count": null,
   "metadata": {
    "collapsed": false
   },
   "outputs": [],
   "source": [
    "# Pack into Simulation object for easy data retrieval \n",
    "ncSim = app.Simulation(prmtop.topology, alchemySystem, ncIntegrator)\n",
    "ncSim.context.setPeriodicBoxVectors(*inpcrd.boxVectors)"
   ]
  },
  {
   "cell_type": "code",
   "execution_count": null,
   "metadata": {
    "collapsed": true
   },
   "outputs": [],
   "source": [
    "# Simulation Object contains:\n",
    "#  Topology/System/Integrator/currentStep/Reporters/Context\n",
    "#   Context contains: Positions/Velocities/Box/State"
   ]
  },
  {
   "cell_type": "code",
   "execution_count": null,
   "metadata": {
    "collapsed": true
   },
   "outputs": [],
   "source": []
  },
  {
   "cell_type": "markdown",
   "metadata": {},
   "source": [
    "alchemyPositions = []\n",
    "for idx in ligand_atoms:\n",
    "    pos = unit.Quantity(coordinates[idx], unit.angstroms)\n",
    "    alchemyPositions.append(pos)\n",
    "alchemyPositions = unit.Quantity(alchemyPositions)"
   ]
  },
  {
   "cell_type": "code",
   "execution_count": null,
   "metadata": {
    "collapsed": false
   },
   "outputs": [],
   "source": [
    "dummy = NCMCModeller()\n",
    "masses = dummy.getMasses(mdSim.context, ligand_atoms)\n",
    "totalmass = dummy.getTotalMass(masses)\n",
    "positions = dummy.getPositions(mdSim.context, ligand_atoms)\n",
    "com = dummy.getCOM(mdSim.context, ligand_atoms)\n",
    "positions"
   ]
  },
  {
   "cell_type": "code",
   "execution_count": null,
   "metadata": {
    "collapsed": false
   },
   "outputs": [],
   "source": [
    "rotation = dummy.generateRotation(mdSim.context, ligand_atoms)\n",
    "rotation"
   ]
  },
  {
   "cell_type": "code",
   "execution_count": null,
   "metadata": {
    "collapsed": false
   },
   "outputs": [],
   "source": [
    "dummy.setPositions(ncSim.context, ligand_atoms, rotation)"
   ]
  },
  {
   "cell_type": "code",
   "execution_count": null,
   "metadata": {
    "collapsed": false
   },
   "outputs": [],
   "source": [
    "dummy.getCOM(mdSim.context, ligand_atoms)\n"
   ]
  },
  {
   "cell_type": "code",
   "execution_count": null,
   "metadata": {
    "collapsed": true
   },
   "outputs": [],
   "source": [
    "# Initialize BLUES engine\n",
    "blues_run = ncmc.SimNCMC(temperature=temperature, residueList=lig_atoms)"
   ]
  },
  {
   "cell_type": "code",
   "execution_count": null,
   "metadata": {
    "collapsed": false
   },
   "outputs": [],
   "source": [
    "dummy = AlchemicalDummy()\n",
    "dummy.getMasses(system, lig_atoms)\n"
   ]
  },
  {
   "cell_type": "code",
   "execution_count": null,
   "metadata": {
    "collapsed": true
   },
   "outputs": [],
   "source": [
    "#Define NC move\n",
    "rot_step = (nstepsNC/2) -1\n",
    "nc_move = [[blues_run.rotationalMove, [rot_step]]]"
   ]
  },
  {
   "cell_type": "code",
   "execution_count": null,
   "metadata": {
    "collapsed": false
   },
   "outputs": [],
   "source": [
    "# actually run\n",
    "blues_run.get_particle_masses(system, residueList=lig_atoms)\n",
    "blues_run.runSim(md_sim, nc_context, nc_integrator,\n",
    "                alch_sim, movekey=nc_move,\n",
    "                niter=numIter, nstepsNC=nstepsNC, nstepsMD=nstepsMD,\n",
    "                alchemical_correction=True)"
   ]
  },
  {
   "cell_type": "code",
   "execution_count": null,
   "metadata": {
    "collapsed": false
   },
   "outputs": [],
   "source": [
    "class Simulate(object):\n",
    "    def __init__(self, topology, system, integrator, \n",
    "                 platform=None, platformProperties=None, state=None):\n",
    "        self.topology = topology\n",
    "        ## The System being simulated\n",
    "        if isinstance(system, string_types):\n",
    "            with open(system, 'r') as f:\n",
    "                self.system = openmm.XmlSerializer.deserialize(f.read())\n",
    "        else:\n",
    "            self.system = system\n",
    "        ## The Integrator used to advance the simulation\n",
    "        if isinstance(integrator, string_types):\n",
    "            with open(integrator, 'r') as f:\n",
    "                self.integrator = openmm.XmlSerializer.deserialize(f.read())\n",
    "        else:\n",
    "            self.integrator = integrator\n",
    "        ## The index of the current time step\n",
    "        self.currentStep = 0\n",
    "        ## A list of reporters to invoke during the simulation\n",
    "        self.reporters = []\n",
    "        if platform is None:\n",
    "            ## The Context containing the current state of the simulation\n",
    "            self.context = mm.Context(self.system, self.integrator)\n",
    "        elif platformProperties is None:\n",
    "            self.context = mm.Context(self.system, self.integrator, platform)\n",
    "        else:\n",
    "            self.context = mm.Context(self.system, self.integrator, platform, platformProperties)\n",
    "        if state is not None:\n",
    "            with open(state, 'r') as f:\n",
    "                self.context.setState(mm.XmlSerializer.deserialize(f.read()))\n",
    "        ## Determines whether or not we are using PBC. Try from the System first,\n",
    "        ## fall back to Topology if that doesn't work\n",
    "        try:\n",
    "            self._usesPBC = self.system.usesPeriodicBoundaryConditions()\n",
    "        except Exception: # OpenMM just raises Exception if it's not implemented everywhere\n",
    "            self._usesPBC = topology.getUnitCellDimensions() is not None\n",
    "            \n",
    "        self.totalmass = 0\n",
    "        self.masses = []\n",
    "        self.idx = []\n",
    "        self.positions = None\n",
    "        self.com = None\n",
    "        self.rotation = None\n",
    "        self.context = None\n",
    "        self.alchemicalSystem = None\n",
    "        \n",
    "    def getMasses(self, context, atomsIdx):\n",
    "        masses = unit.Quantity(np.zeros([len(atomsIdx),1],np.float32), unit.dalton)\n",
    "        sytem = context.getSystem()\n",
    "        for ele, idx in enumerate(atomsIdx):\n",
    "            masses[ele] = system.getParticleMass(idx)\n",
    "        self.totalmass = masses.sum()\n",
    "        self.masses = masses\n",
    "        return self.masses\n",
    "    \n",
    "    def getTotalMass(self, masses):\n",
    "        self.totalmass = self.masses.sum()\n",
    "        return self.totalmass\n",
    "        \n",
    "    def getPositions(self, context, atomsIdx):\n",
    "        state = context.getState(getPositions=True)\n",
    "        coordinates = state.getPositions(asNumpy=True) / unit.nanometers\n",
    "        positions = unit.Quantity( np.zeros([len(atomsIdx),3],np.float32), unit.nanometers)\n",
    "        for ele, idx in enumerate(atomsIdx):\n",
    "            positions[ele,:] = unit.Quantity(coordinates[idx], unit.nanometers)\n",
    "        self.positions = positions\n",
    "        return self.positions\n",
    "    \n",
    "    def getCOM(self, context, atomsIdx):\n",
    "        #Update masses for current context\n",
    "        masses = self.getMasses(context, atomsIdx)\n",
    "        totalmass = self.getTotalMass(masses)\n",
    "        positions = self.getPositions(context, atomsIdx)\n",
    "        com =  (masses / totalmass * positions).sum(0)\n",
    "        self.com = com\n",
    "        return self.com\n",
    "    \n",
    "    def generateRotation(self, context, atomsIdx):\n",
    "        comPos = self.getCOM(context, atomsIdx)\n",
    "        alchPos = self.getPositions(context, atomsIdx)\n",
    "        # Remove COM from alchemical positions to perform rotation\n",
    "        tempPos = alchPos - comPos\n",
    "        # Dot alchPostions with rotation matrix,\n",
    "        rotPos = unit.Quantity( np.dot(tempPos, rand_rotation_matrix()), unit.nanometers)\n",
    "        rotation = rotPos + comPos\n",
    "        self.rotation = rotation\n",
    "        return self.rotation\n",
    "    def rand_rotation_matrix():\n",
    "        \"\"\"\n",
    "        Creates a uniform random rotation matrix\n",
    "        Returns\n",
    "        -------\n",
    "        matrix_out: 3x3 np.array\n",
    "            random rotation matrix\n",
    "        \"\"\"\n",
    "        rand_quat = md.utils.uniform_quaternion()\n",
    "        matrix_out = md.utils.rotation_matrix_from_quaternion(rand_quat)\n",
    "        return matrix_out\n",
    "    \n",
    "    def create_alchemicalSystem(self, topology, reference_system, atomsIdx=None):\n",
    "        #Initialize Alchemical Simulation\n",
    "        # performs alchemical corrections\n",
    "        # Reporter for NCMC moves\n",
    "        alchemyIntegrator = openmm.LangevinIntegrator(temperature, friction, dt)\n",
    "        alchemySim = app.Simulation(prmtop.topology, system, alchemyIntegrator)\n",
    "        #alchemySim.context.setPeriodicBoxVectors(*inpcrd.boxVectors)\n",
    "        # Generate Alchemical System\n",
    "        factory = AbsoluteAlchemicalFactory(system, ligand_atoms=atomsIdx,\n",
    "                                            annihilate_sterics=True,\n",
    "                                            annihilate_electrostatics=True)\n",
    "        alchemySystem = factory.createPerturbedSystem()\n",
    "        return self.alchemicalSystem\n",
    "    \n",
    "    def setPositions(self, context, atomsIdx, newpositions):\n",
    "        positions = self.getPositions(context, atomsIdx)\n",
    "        for ele, idx in enumerate(atomsIdx):\n",
    "            positions[idx] = newpositions[ele]\n",
    "        self.positions = positions\n",
    "        self.context = context.setPositions(positions)\n",
    "        return self.positions"
   ]
  }
 ],
 "metadata": {
  "anaconda-cloud": {},
  "kernelspec": {
   "display_name": "Python [conda env:blues-dev]",
   "language": "python",
   "name": "conda-env-blues-dev-py"
  },
  "language_info": {
   "codemirror_mode": {
    "name": "ipython",
    "version": 3
   },
   "file_extension": ".py",
   "mimetype": "text/x-python",
   "name": "python",
   "nbconvert_exporter": "python",
   "pygments_lexer": "ipython3",
   "version": "3.5.2"
  }
 },
 "nbformat": 4,
 "nbformat_minor": 1
}
