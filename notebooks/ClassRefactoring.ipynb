{
 "cells": [
  {
   "cell_type": "code",
   "execution_count": 1,
   "metadata": {
    "collapsed": false,
    "deletable": true,
    "editable": true
   },
   "outputs": [],
   "source": [
    "from simtk import unit, openmm\n",
    "from simtk.openmm import app\n",
    "from alchemy import AbsoluteAlchemicalFactory, AlchemicalState\n",
    "\n",
    "import blues.utils as utils\n",
    "import blues.ncmc as ncmc\n",
    "import blues.ncmc_switching as ncmc_switching\n",
    "from blues.smartdart import SmartDarting\n",
    "\n",
    "import sys\n",
    "import numpy as np\n",
    "import mdtraj\n",
    "from mdtraj.reporters import HDF5Reporter\n",
    "from datetime import datetime\n",
    "from optparse import OptionParser"
   ]
  },
  {
   "cell_type": "code",
   "execution_count": 2,
   "metadata": {
    "collapsed": false,
    "deletable": true,
    "editable": true
   },
   "outputs": [],
   "source": [
    "# Define some constants\n",
    "opt = {}\n",
    "opt['verbose'] = True\n",
    "opt['nonbondedMethod'] = 'PME'\n",
    "opt['nonbondedCutoff'] = 10\n",
    "opt['constraints'] = 'HBonds'\n",
    "\n",
    "opt['temperature'] = 300.0\n",
    "opt['friction'] = 1\n",
    "opt['dt'] = 0.002\n",
    "\n",
    "\n",
    "opt['numIter'] = 10\n",
    "opt['nstepsNC'] = 10\n",
    "opt['nstepsMD'] = 50\n",
    "\n",
    "opt['trajectory_interval'] = 10\n",
    "opt['reporter_interval'] = 10\n",
    "\n",
    "#Defines ncmc move eqns for lambda peturbation of sterics/electrostatics\n",
    "opt['functions'] = { 'lambda_sterics' : 'step(0.199999-lambda) + step(lambda-0.2)*step(0.8-lambda)*abs(lambda-0.5)*1/0.3 + step(lambda-0.800001)',\n",
    "            'lambda_electrostatics' : 'step(0.2-lambda)- 1/0.2*lambda*step(0.2-lambda) + 1/0.2*(lambda-0.8)*step(lambda-0.8)' }"
   ]
  },
  {
   "cell_type": "code",
   "execution_count": null,
   "metadata": {
    "collapsed": false
   },
   "outputs": [],
   "source": [
    "def generateSimFromStruct(structure, platform=None, printfile=sys.stdout, **opt):\n",
    "    system = structure.createSystem(nonbondedMethod=eval(\"app.%s\" % opt['nonbondedMethod']),\n",
    "                                    nonbondedCutoff=opt['nonbondedCutoff']*unit.angstroms,\n",
    "                                    constraints=eval(\"app.%s\" % opt['constraints']))\n",
    "    \n",
    "    integrator = openmm.LangevinIntegrator(opt['temperature']*unit.kelvin, \n",
    "                                           opt['friction']/unit.picosecond, \n",
    "                                           opt['dt']*unit.picoseconds)\n",
    "\n",
    "    if platform is None:\n",
    "        #Use the fastest available platform\n",
    "        simulation = app.Simulation(structure.topology, system, integrator)\n",
    "    else:\n",
    "        platform = openmm.Platform.getPlatformByName(platform)\n",
    "        prop = dict(DeviceIndex='2')\n",
    "        simulation = app.Simulation(structure.topology, system, integrator, platform, prop)\n",
    "        \n",
    "    # OpenMM platform information\n",
    "    mmver = openmm.version.version\n",
    "    mmplat = simulation.context.getPlatform()\n",
    "    print('OpenMM({}) simulation generated for {} platform'.format(mmver, mmplat.getName()), file=printfile)\n",
    "    \n",
    "    if opt['verbose']:\n",
    "        # Host information\n",
    "        from platform import uname\n",
    "        for k,v in uname()._asdict().items():\n",
    "            print(k, ':', v, file=printfile)\n",
    "            \n",
    "        # Platform properties\n",
    "        for prop in mmplat.getPropertyNames():\n",
    "            val = mmplat.getPropertyValue(simulation.context, prop)\n",
    "            print(prop, ':', val, file=printfile)\n",
    "    \n",
    "    # Set initial positions/velocities\n",
    "    # Will get overwritten from saved State.\n",
    "    simulation.context.setPositions(structure.positions)\n",
    "    simulation.context.setVelocitiesToTemperature(opt['temperature']*unit.kelvin)\n",
    "    return simulation"
   ]
  },
  {
   "cell_type": "code",
   "execution_count": null,
   "metadata": {
    "collapsed": true
   },
   "outputs": [],
   "source": [
    "def getReporters(totalSteps=None, outfname=None, **opt):\n",
    "    if totalSteps is None:\n",
    "        totalSteps = opt['steps']\n",
    "    if outfname is None:\n",
    "        outfname = opt['outfname']\n",
    "    progress_reporter = app.StateDataReporter(sys.stdout, separator=\"\\t\",\n",
    "                                        reportInterval=opt['reporter_interval'],\n",
    "                                        step=True, totalSteps=totalSteps,\n",
    "                                        time=True, speed=True, progress=True,\n",
    "                                        elapsedTime=True, remainingTime=True)\n",
    "\n",
    "    state_reporter = app.StateDataReporter(outfname+'.log', separator=\"\\t\",\n",
    "                                        reportInterval=opt['reporter_interval'],\n",
    "                                        step=True,\n",
    "                                        potentialEnergy=True, totalEnergy=True,\n",
    "                                        volume=True, temperature=True)\n",
    "\n",
    "    # Uses NetCDF(4.0) but not VMD compatible.\n",
    "    #traj_reporter = mdtraj.reporters.HDF5Reporter(outfname+'.h5', opt['reporter_interval'])\n",
    "\n",
    "    # Default to NetCDF since VMD compatible.\n",
    "    traj_reporter = mdtraj.reporters.NetCDFReporter(outfname+'.nc', opt['trajectory_interval'])\n",
    "\n",
    "    reporters = [state_reporter, progress_reporter, traj_reporter]\n",
    "    return reporters"
   ]
  },
  {
   "cell_type": "code",
   "execution_count": null,
   "metadata": {
    "collapsed": false
   },
   "outputs": [],
   "source": [
    "\n",
    "md_sim = generateSimFromStruct(struct, 'OpenCL', **opt)\n",
    "alch_sim = generateSimFromStruct(struct, 'OpenCL', **opt)\n",
    "\n",
    "# Add reporters to MD\n",
    "totalSteps = opt['numIter'] * opt['nstepsMD']\n",
    "reporters = getReporters\n",
    "for rep in getReporters(totalSteps, 'blues_test', **opt):\n",
    "    md_sim.reporters.append(rep)"
   ]
  },
  {
   "cell_type": "code",
   "execution_count": 4,
   "metadata": {
    "collapsed": false
   },
   "outputs": [],
   "source": [
    "class SimulationFactory(object):\n",
    "    def __init__(self, structure):\n",
    "        self.structure = structure\n",
    "        \n",
    "        self.ligand_atoms = []\n",
    "        self.system = None\n",
    "        self.alch_system = None\n",
    "        \n",
    "        self.md_sim = None\n",
    "        self.alch_sim = None\n",
    "        self.nc_sim = None\n",
    "\n",
    "    def getLigandAtoms(self, topology, resname='LIG'):\n",
    "        ligand_atoms = []\n",
    "        for atom in topology.atoms():\n",
    "            if str(resname) in atom.residue.name:\n",
    "                ligand_atoms.append(atom.index)\n",
    "        self.ligand_atoms = ligand_atoms\n",
    "        return self.ligand_atoms\n",
    "    \n",
    "    def generateAlchSystem(self, system, ligand_atoms):\n",
    "        # Generate Alchemical System\n",
    "        factory = AbsoluteAlchemicalFactory(system, ligand_atoms,\n",
    "                                            annihilate_sterics=True,\n",
    "                                            annihilate_electrostatics=True)\n",
    "        alch_system = factory.createPerturbedSystem()\n",
    "        self.alch_system = alch_system\n",
    "        return self.alch_sytem\n",
    "        \n",
    "    def generateSystem(self, structure, opt):\n",
    "        system = structure.createSystem(nonbondedMethod=eval(\"app.%s\" % opt['nonbondedMethod']),\n",
    "                            nonbondedCutoff=opt['nonbondedCutoff']*unit.angstroms,\n",
    "                            constraints=eval(\"app.%s\" % opt['constraints']))\n",
    "        self.system = system\n",
    "        return self.system\n",
    "        \n",
    "    #def generateSimulation(self, system, integrator):\n",
    "        \n",
    "    \n",
    "    #def create(self, opt):\n",
    "     #   lig_atoms = self.getLigandAtoms(self.structure.topology)\n",
    "     #   self.generateSystem(self.structure, opt)\n",
    "    "
   ]
  },
  {
   "cell_type": "code",
   "execution_count": null,
   "metadata": {
    "collapsed": false,
    "deletable": true,
    "editable": true
   },
   "outputs": [],
   "source": [
    "class SimulateNCMC(object):\n",
    "    def __init__(self, md_simulation, resname, \n",
    "                 platform=None, platformProperties=None, state=None):\n",
    "        \n",
    "        #Set reference variables from MD\n",
    "        self.topology = md_simulation.topology\n",
    "        self.system = md_simulation.system\n",
    "        self.integrator = md_simulation.integrator\n",
    "        self.resname = resname\n",
    "        self.box_vectors = self.system.getDefaultPeriodicBoxVectors()\n",
    "        #self.context = md_simulation.context\n",
    "        \n",
    "        # Set physical parameters\n",
    "        self.temperature = 300.0*unit.kelvin\n",
    "        self.friction = 1/unit.picosecond\n",
    "        self.dt = 0.002*unit.picoseconds\n",
    "        kB = unit.BOLTZMANN_CONSTANT_kB * unit.AVOGADRO_CONSTANT_NA\n",
    "        self.beta = 1.0 / (kB * temperature)\n",
    "        \n",
    "        self.numIter = 10\n",
    "        self.nstepsNC = 10\n",
    "        self.nstepsMD = 50 \n",
    "        \n",
    "        ## The index of the current time step\n",
    "        self.currentStep = 0\n",
    "        ## A list of reporters to invoke during the simulation\n",
    "        self.reporters = []\n",
    "        \n",
    "        #Defines ncmc move eqns for lambda peturbation of sterics/electrostatics\n",
    "        self.functions = {\n",
    "            'lambda_sterics' : 'step(0.199999-lambda) + step(lambda-0.2)*step(0.8-lambda)*abs(lambda-0.5)*1/0.3 + step(lambda-0.800001)',\n",
    "            'lambda_electrostatics' : 'step(0.2-lambda)- 1/0.2*lambda*step(0.2-lambda) + 1/0.2*(lambda-0.8)*step(lambda-0.8)' \n",
    "        }\n",
    "        \n",
    "        self.totalmass = 0\n",
    "        self.masslist = []\n",
    "        self.atomsIdx = []\n",
    "        self.alchemicalSystem = None\n",
    "        self.alchemicalSim = None\n",
    "        self.ncContext = None\n",
    "        self.ncPositions = None\n",
    "        self.positions = None\n",
    "        \n",
    "        self.acceptance = 0\n",
    "        self.nc_integrator = None\n",
    "        \n",
    "        self._storage = None\n",
    "        self.com = None\n",
    "        self.rotation = None\n",
    "        \n",
    "       \n",
    "\n",
    "    def setAtomsIdx(self):\n",
    "        idx = []\n",
    "        for atom in self.topology.atoms():\n",
    "            if str(self.resname) in atom.residue.name:\n",
    "                idx.append(atom.index)\n",
    "        self.atomsIdx = idx\n",
    "        print('Ligand atoms:', self.atomsIdx)\n",
    "        return self.atomsIdx\n",
    "    \n",
    "    def generateAlchemicalSimulation(self):\n",
    "        #Initialize Alchemical Simulation\n",
    "        # performs alchemical corrections\n",
    "        # Reporter for NCMC moves\n",
    "        alchemicalIntegrator = openmm.LangevinIntegrator(self.temperature, \n",
    "                                                      self.friction,\n",
    "                                                      self.dt)\n",
    "        alchemicalSim = app.Simulation(self.topology, self.system, alchemicalIntegrator)\n",
    "        alchemicalSim.context.setPeriodicBoxVectors(*self.box_vectors)\n",
    "        self.alchemicalSim = alchemicalSim\n",
    "        print('Generated Alchemical Simulation:', type(alchemicalSim))\n",
    "        return self.alchemicalSim\n",
    "    \n",
    "    def generateAlchemicalSystem(self):        \n",
    "        # Generate Alchemical System\n",
    "        factory = AbsoluteAlchemicalFactory(self.system, ligand_atoms=self.atomsIdx,\n",
    "                                            annihilate_sterics=True,\n",
    "                                            annihilate_electrostatics=True)\n",
    "        alchemicalSystem = factory.createPerturbedSystem()\n",
    "        self.alchemicalSystem = alchemicalSystem\n",
    "        print('Generated Alchemical System:', type(alchemicalSystem))\n",
    "        return self.alchemicalSystem\n",
    "    \n",
    "    def generateNCContext(self):\n",
    "        ncIntegrator = ncmc_switching.NCMCVVAlchemicalIntegrator(self.temperature, \n",
    "                                                                 self.alchemicalSystem,\n",
    "                                                                 self.functions,\n",
    "                                                                 nsteps=self.nstepsNC)\n",
    "        ncContext = openmm.Context(self.alchemicalSystem, ncIntegrator)\n",
    "        ncContext.setPeriodicBoxVectors(*self.box_vectors)\n",
    "        self.ncContext = ncContext\n",
    "        print('Generated NCMC context:', type(ncContext))\n",
    "        return self.ncContext\n",
    "    \n",
    "    def getMasses(self):\n",
    "        masses = unit.Quantity(np.zeros([len(self.atomsIdx),1],np.float32), unit.dalton)\n",
    "        #sytem = context.getSystem()\n",
    "        for ele, idx in enumerate(self.atomsIdx):\n",
    "            masses[ele] = self.system.getParticleMass(idx)\n",
    "        self.masses = masses\n",
    "        self.totalmass = self.getTotalMass(masses)\n",
    "        return self.masses\n",
    "    \n",
    "    def getTotalMass(self, masses):\n",
    "        self.totalmass = masses.sum()\n",
    "        return self.totalmass\n",
    "    \n",
    "    def getCOM(self):\n",
    "        #positions = self.getPositions(context, atomsIdx)\n",
    "        com =  (masses / totalmass * positions).sum(0)\n",
    "        self.com = com\n",
    "        return self.com\n",
    "\n",
    "    def getPositions(self, context, index=[] ):\n",
    "        state = context.getState(getPositions=True)\n",
    "        pos_array = state.getPositions(asNumpy=True)\n",
    "        coordinates = pos_array / unit.nanometers\n",
    "        if not index:\n",
    "            index = range(len(coordinates))\n",
    "        else:\n",
    "            index = self.atomsIdx\n",
    "        positions = unit.Quantity(np.zeros( [len(index),3], np.float32), unit.nanometers)\n",
    "        for e, i in enumerate(index):\n",
    "            positions[e,:] = unit.Quantity(coordinates[i], unit.nanometers)\n",
    "        return positions\n",
    "\n",
    "    def generateRotation(self):\n",
    "        comPos = self.getCOM(context, atomsIdx)\n",
    "        alchPos = self.getPositions(context, atomsIdx)\n",
    "        # Remove COM from alchemical positions to perform rotation\n",
    "        tempPos = alchPos - comPos\n",
    "        # Dot alchPostions with rotation matrix,\n",
    "        rotPos = unit.Quantity( np.dot(tempPos, rand_rotation_matrix()), unit.nanometers)\n",
    "        rotation = rotPos + comPos\n",
    "        self.rotation = rotation\n",
    "        return self.rotation\n",
    "    \n",
    "    def rand_rotation_matrix():\n",
    "        rand_quat = md.utils.uniform_quaternion()\n",
    "        matrix_out = md.utils.rotation_matrix_from_quaternion(rand_quat)\n",
    "        return matrix_out\n",
    "        \n",
    "    def updatePositions(self, context, index=[], positions):\n",
    "        #Store reference positions\n",
    "        self.positions = self.getPositions(self.context)\n",
    "        for ele, idx in enumerate(atomsIdx):\n",
    "            positions[idx] = newpositions[ele]\n",
    "        self.positions = positions\n",
    "        self.context = context.setPositions(positions)\n",
    "        return self.positions\n",
    "    \n",
    "    def _prepNCMC(self):\n",
    "        #First Generate MD Simulation object\n",
    "        self.setAtomsIdx(self.resname, self.topology)\n",
    "        #Generate Alchemical System/contexts\n",
    "        self.generateAlchemicalSystem()\n",
    "        self.generateAlchemicalSimulation()\n",
    "        #Generate NC contexts\n",
    "        self.generateNCContext()\n",
    "        \n",
    "    def _simulation(self): \n",
    "        ### Set Initial Conditions\n",
    "        #Set NC positions to reference from MD\n",
    "        mdState = md_simulation.context.getState(getPositions=True,\n",
    "                                                  getVelocities=True,\n",
    "                                                  getEnergy=True,\n",
    "                                                  getParameters=True,\n",
    "                                                  enforcePeriodicBox=True)\n",
    "        ncState = ncContext.getState(getPositions=True)\n",
    "        \n",
    "        self.ncPositions = self.getPositions(self.ncContext)\n",
    "        \n",
    "        #Define our rotational move\n",
    "        #Update masses for current context\n",
    "        masses = self.getMasses()\n",
    "        totalmass = self.getTotalMass(masses)\n",
    "        #self.getMasses()\n",
    "        "
   ]
  },
  {
   "cell_type": "code",
   "execution_count": null,
   "metadata": {
    "collapsed": false,
    "deletable": true,
    "editable": true
   },
   "outputs": [],
   "source": [
    "testSim = SimulateNCMC(mdSim, 'LIG')\n",
    "testSim.setAtomsIdx()\n",
    "testSim.generateAlchemicalSystem()\n",
    "testSim.generateAlchemicalSimulation()\n",
    "nc_context = testSim.generateNCContext()"
   ]
  },
  {
   "cell_type": "code",
   "execution_count": null,
   "metadata": {
    "collapsed": false,
    "deletable": true,
    "editable": true
   },
   "outputs": [],
   "source": [
    "def getPositions(context, index=[]):\n",
    "    pos_array = context.getState(getPositions=True).getPositions(asNumpy=True)\n",
    "    coordinates = pos_array / unit.nanometers\n",
    "    if not index:\n",
    "        print('index is none')\n",
    "        index = range(len(coordinates))\n",
    "        print(index)\n",
    "    else:\n",
    "        index = [2634, 2635, 2636, 2637, 2638, 2639, 2640, 2641, 2642, 2643, 2644, 2645, 2646, 2647, 2648] \n",
    "        print('index is not none')\n",
    "    positions = unit.Quantity(np.zeros( [len(index),3], np.float32), unit.nanometers)\n",
    "    for e, i in enumerate(index):\n",
    "        positions[e,:] = unit.Quantity(coordinates[i], unit.nanometers)\n",
    "    print(positions)\n",
    "    return positions"
   ]
  },
  {
   "cell_type": "code",
   "execution_count": null,
   "metadata": {
    "collapsed": false,
    "deletable": true,
    "editable": true
   },
   "outputs": [],
   "source": [
    "\n",
    "nc_pos = getPositions(nc_context)"
   ]
  },
  {
   "cell_type": "code",
   "execution_count": null,
   "metadata": {
    "collapsed": false,
    "deletable": true,
    "editable": true
   },
   "outputs": [],
   "source": [
    "range(len(pos_array))"
   ]
  },
  {
   "cell_type": "code",
   "execution_count": null,
   "metadata": {
    "collapsed": false,
    "deletable": true,
    "editable": true
   },
   "outputs": [],
   "source": [
    "nc_pos"
   ]
  },
  {
   "cell_type": "code",
   "execution_count": null,
   "metadata": {
    "collapsed": true,
    "deletable": true,
    "editable": true
   },
   "outputs": [],
   "source": []
  },
  {
   "cell_type": "code",
   "execution_count": null,
   "metadata": {
    "collapsed": false,
    "deletable": true,
    "editable": true
   },
   "outputs": [],
   "source": [
    "# Generate NC Integrator/Contexts\n",
    "ncIntegrator = ncmc_switching.NCMCVVAlchemicalIntegrator(temperature, alchemySystem, functions,\n",
    "                                          nsteps=nstepsNC)\n",
    "nc_context = openmm.Context(alchemySystem, ncIntegrator)\n",
    "nc_context.setPeriodicBoxVectors(*inpcrd.boxVectors)"
   ]
  },
  {
   "cell_type": "code",
   "execution_count": null,
   "metadata": {
    "collapsed": true,
    "deletable": true,
    "editable": true
   },
   "outputs": [],
   "source": [
    "# Initialize BLUES engineb\n",
    "blues_run = SimNCMC(temperature, ligand_atoms)"
   ]
  },
  {
   "cell_type": "code",
   "execution_count": null,
   "metadata": {
    "collapsed": false,
    "deletable": true,
    "editable": true
   },
   "outputs": [],
   "source": [
    "rot_step = (nstepsNC/2) -1\n",
    "nc_move = [[blues_run.rotationalMove, [rot_step]]]\n",
    "blues_run.getParticleMass(system, ligand_atoms)\n",
    "blues_run.runSim(mdSim, nc_context, ncIntegrator,\n",
    "                    alchemySim, movekey=nc_move,\n",
    "                    niter=numIter, nstepsNC=nstepsNC, nstepsMD=nstepsMD,\n",
    "                    alchemical_correction=True)"
   ]
  },
  {
   "cell_type": "code",
   "execution_count": null,
   "metadata": {
    "collapsed": false,
    "deletable": true,
    "editable": true
   },
   "outputs": [],
   "source": [
    "# Pack into Simulation object for easy data retrieval \n",
    "ncSim = app.Simulation(prmtop.topology, alchemySystem, ncIntegrator)\n",
    "ncSim.context.setPeriodicBoxVectors(*inpcrd.boxVectors)"
   ]
  },
  {
   "cell_type": "code",
   "execution_count": null,
   "metadata": {
    "collapsed": true,
    "deletable": true,
    "editable": true
   },
   "outputs": [],
   "source": [
    "# Simulation Object contains:\n",
    "#  Topology/System/Integrator/currentStep/Reporters/Context\n",
    "#   Context contains: Positions/Velocities/Box/State"
   ]
  },
  {
   "cell_type": "code",
   "execution_count": null,
   "metadata": {
    "collapsed": true,
    "deletable": true,
    "editable": true
   },
   "outputs": [],
   "source": []
  },
  {
   "cell_type": "markdown",
   "metadata": {
    "deletable": true,
    "editable": true
   },
   "source": [
    "alchemyPositions = []\n",
    "for idx in ligand_atoms:\n",
    "    pos = unit.Quantity(coordinates[idx], unit.angstroms)\n",
    "    alchemyPositions.append(pos)\n",
    "alchemyPositions = unit.Quantity(alchemyPositions)"
   ]
  },
  {
   "cell_type": "code",
   "execution_count": null,
   "metadata": {
    "collapsed": false,
    "deletable": true,
    "editable": true
   },
   "outputs": [],
   "source": [
    "dummy = NCMCModeller()\n",
    "masses = dummy.getMasses(mdSim.context, ligand_atoms)\n",
    "totalmass = dummy.getTotalMass(masses)\n",
    "positions = dummy.getPositions(mdSim.context, ligand_atoms)\n",
    "com = dummy.getCOM(mdSim.context, ligand_atoms)\n",
    "positions"
   ]
  },
  {
   "cell_type": "code",
   "execution_count": null,
   "metadata": {
    "collapsed": false,
    "deletable": true,
    "editable": true
   },
   "outputs": [],
   "source": [
    "rotation = dummy.generateRotation(mdSim.context, ligand_atoms)\n",
    "rotation"
   ]
  },
  {
   "cell_type": "code",
   "execution_count": null,
   "metadata": {
    "collapsed": false,
    "deletable": true,
    "editable": true
   },
   "outputs": [],
   "source": [
    "dummy.setPositions(ncSim.context, ligand_atoms, rotation)"
   ]
  },
  {
   "cell_type": "code",
   "execution_count": null,
   "metadata": {
    "collapsed": false,
    "deletable": true,
    "editable": true
   },
   "outputs": [],
   "source": [
    "dummy.getCOM(mdSim.context, ligand_atoms)\n"
   ]
  },
  {
   "cell_type": "code",
   "execution_count": null,
   "metadata": {
    "collapsed": true,
    "deletable": true,
    "editable": true
   },
   "outputs": [],
   "source": [
    "# Initialize BLUES engine\n",
    "blues_run = ncmc.SimNCMC(temperature=temperature, residueList=lig_atoms)"
   ]
  },
  {
   "cell_type": "code",
   "execution_count": null,
   "metadata": {
    "collapsed": false,
    "deletable": true,
    "editable": true
   },
   "outputs": [],
   "source": [
    "dummy = AlchemicalDummy()\n",
    "dummy.getMasses(system, lig_atoms)\n"
   ]
  },
  {
   "cell_type": "code",
   "execution_count": null,
   "metadata": {
    "collapsed": true,
    "deletable": true,
    "editable": true
   },
   "outputs": [],
   "source": [
    "#Define NC move\n",
    "rot_step = (nstepsNC/2) -1\n",
    "nc_move = [[blues_run.rotationalMove, [rot_step]]]"
   ]
  },
  {
   "cell_type": "code",
   "execution_count": null,
   "metadata": {
    "collapsed": false,
    "deletable": true,
    "editable": true
   },
   "outputs": [],
   "source": [
    "# actually run\n",
    "blues_run.get_particle_masses(system, residueList=lig_atoms)\n",
    "blues_run.runSim(md_sim, nc_context, nc_integrator,\n",
    "                alch_sim, movekey=nc_move,\n",
    "                niter=numIter, nstepsNC=nstepsNC, nstepsMD=nstepsMD,\n",
    "                alchemical_correction=True)"
   ]
  },
  {
   "cell_type": "code",
   "execution_count": null,
   "metadata": {
    "collapsed": false,
    "deletable": true,
    "editable": true
   },
   "outputs": [],
   "source": [
    "class Simulate(object):\n",
    "    def __init__(self, topology, system, integrator, \n",
    "                 platform=None, platformProperties=None, state=None):\n",
    "        self.topology = topology\n",
    "        ## The System being simulated\n",
    "        if isinstance(system, string_types):\n",
    "            with open(system, 'r') as f:\n",
    "                self.system = openmm.XmlSerializer.deserialize(f.read())\n",
    "        else:\n",
    "            self.system = system\n",
    "        ## The Integrator used to advance the simulation\n",
    "        if isinstance(integrator, string_types):\n",
    "            with open(integrator, 'r') as f:\n",
    "                self.integrator = openmm.XmlSerializer.deserialize(f.read())\n",
    "        else:\n",
    "            self.integrator = integrator\n",
    "        ## The index of the current time step\n",
    "        self.currentStep = 0\n",
    "        ## A list of reporters to invoke during the simulation\n",
    "        self.reporters = []\n",
    "        if platform is None:\n",
    "            ## The Context containing the current state of the simulation\n",
    "            self.context = mm.Context(self.system, self.integrator)\n",
    "        elif platformProperties is None:\n",
    "            self.context = mm.Context(self.system, self.integrator, platform)\n",
    "        else:\n",
    "            self.context = mm.Context(self.system, self.integrator, platform, platformProperties)\n",
    "        if state is not None:\n",
    "            with open(state, 'r') as f:\n",
    "                self.context.setState(mm.XmlSerializer.deserialize(f.read()))\n",
    "        ## Determines whether or not we are using PBC. Try from the System first,\n",
    "        ## fall back to Topology if that doesn't work\n",
    "        try:\n",
    "            self._usesPBC = self.system.usesPeriodicBoundaryConditions()\n",
    "        except Exception: # OpenMM just raises Exception if it's not implemented everywhere\n",
    "            self._usesPBC = topology.getUnitCellDimensions() is not None\n",
    "            \n",
    "        self.totalmass = 0\n",
    "        self.masses = []\n",
    "        self.idx = []\n",
    "        self.positions = None\n",
    "        self.com = None\n",
    "        self.rotation = None\n",
    "        self.context = None\n",
    "        self.alchemicalSystem = None\n",
    "        \n",
    "    def getMasses(self, context, atomsIdx):\n",
    "        masses = unit.Quantity(np.zeros([len(atomsIdx),1],np.float32), unit.dalton)\n",
    "        sytem = context.getSystem()\n",
    "        for ele, idx in enumerate(atomsIdx):\n",
    "            masses[ele] = system.getParticleMass(idx)\n",
    "        self.totalmass = masses.sum()\n",
    "        self.masses = masses\n",
    "        return self.masses\n",
    "    \n",
    "    def getTotalMass(self, masses):\n",
    "        self.totalmass = self.masses.sum()\n",
    "        return self.totalmass\n",
    "        \n",
    "    def getPositions(self, context, atomsIdx):\n",
    "        state = context.getState(getPositions=True)\n",
    "        coordinates = state.getPositions(asNumpy=True) / unit.nanometers\n",
    "        positions = unit.Quantity( np.zeros([len(atomsIdx),3],np.float32), unit.nanometers)\n",
    "        for ele, idx in enumerate(atomsIdx):\n",
    "            positions[ele,:] = unit.Quantity(coordinates[idx], unit.nanometers)\n",
    "        self.positions = positions\n",
    "        return self.positions\n",
    "    \n",
    "    def getCOM(self, context, atomsIdx):\n",
    "        #Update masses for current context\n",
    "        masses = self.getMasses(context, atomsIdx)\n",
    "        totalmass = self.getTotalMass(masses)\n",
    "        positions = self.getPositions(context, atomsIdx)\n",
    "        com =  (masses / totalmass * positions).sum(0)\n",
    "        self.com = com\n",
    "        return self.com\n",
    "    \n",
    "    def generateRotation(self, context, atomsIdx):\n",
    "        comPos = self.getCOM(context, atomsIdx)\n",
    "        alchPos = self.getPositions(context, atomsIdx)\n",
    "        # Remove COM from alchemical positions to perform rotation\n",
    "        tempPos = alchPos - comPos\n",
    "        # Dot alchPostions with rotation matrix,\n",
    "        rotPos = unit.Quantity( np.dot(tempPos, rand_rotation_matrix()), unit.nanometers)\n",
    "        rotation = rotPos + comPos\n",
    "        self.rotation = rotation\n",
    "        return self.rotation\n",
    "    def rand_rotation_matrix():\n",
    "        \"\"\"\n",
    "        Creates a uniform random rotation matrix\n",
    "        Returns\n",
    "        -------\n",
    "        matrix_out: 3x3 np.array\n",
    "            random rotation matrix\n",
    "        \"\"\"\n",
    "        rand_quat = md.utils.uniform_quaternion()\n",
    "        matrix_out = md.utils.rotation_matrix_from_quaternion(rand_quat)\n",
    "        return matrix_out\n",
    "    \n",
    "    def create_alchemicalSystem(self, topology, reference_system, atomsIdx=None):\n",
    "        #Initialize Alchemical Simulation\n",
    "        # performs alchemical corrections\n",
    "        # Reporter for NCMC moves\n",
    "        alchemyIntegrator = openmm.LangevinIntegrator(temperature, friction, dt)\n",
    "        alchemySim = app.Simulation(prmtop.topology, system, alchemyIntegrator)\n",
    "        #alchemySim.context.setPeriodicBoxVectors(*inpcrd.boxVectors)\n",
    "        # Generate Alchemical System\n",
    "        factory = AbsoluteAlchemicalFactory(system, ligand_atoms=atomsIdx,\n",
    "                                            annihilate_sterics=True,\n",
    "                                            annihilate_electrostatics=True)\n",
    "        alchemySystem = factory.createPerturbedSystem()\n",
    "        return self.alchemicalSystem\n",
    "    \n",
    "    def setPositions(self, context, atomsIdx, newpositions):\n",
    "        positions = self.getPositions(context, atomsIdx)\n",
    "        for ele, idx in enumerate(atomsIdx):\n",
    "            positions[idx] = newpositions[ele]\n",
    "        self.positions = positions\n",
    "        self.context = context.setPositions(positions)\n",
    "        return self.positions"
   ]
  }
 ],
 "metadata": {
  "anaconda-cloud": {},
  "kernelspec": {
   "display_name": "bluesdev",
   "language": "python",
   "name": "bluesdev"
  },
  "language_info": {
   "codemirror_mode": {
    "name": "ipython",
    "version": 3
   },
   "file_extension": ".py",
   "mimetype": "text/x-python",
   "name": "python",
   "nbconvert_exporter": "python",
   "pygments_lexer": "ipython3",
   "version": "3.5.3"
  }
 },
 "nbformat": 4,
 "nbformat_minor": 1
}
